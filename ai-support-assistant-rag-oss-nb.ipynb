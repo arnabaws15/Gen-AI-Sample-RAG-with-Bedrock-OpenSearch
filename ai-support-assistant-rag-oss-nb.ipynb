{
 "cells": [
  {
   "cell_type": "code",
   "execution_count": null,
   "id": "3584a6c2-c7fb-4789-9292-33c5efb1fc8b",
   "metadata": {
    "tags": []
   },
   "outputs": [],
   "source": [
    "%pip install -r requirements.txt -U"
   ]
  },
  {
   "cell_type": "code",
   "execution_count": null,
   "id": "0802a2ac-96b8-4e0b-bcce-9272657530d6",
   "metadata": {
    "tags": []
   },
   "outputs": [],
   "source": [
    "!curl https://d2eo22ngex1n9g.cloudfront.net/Documentation/SDK/bedrock-python-sdk.zip --output bedrock-python-sdk.zip\n",
    "!unzip bedrock-python-sdk.zip -d bedrock-python-sdk"
   ]
  },
  {
   "cell_type": "code",
   "execution_count": null,
   "id": "b9ed53aa-28bd-430e-8eca-9340e18b2bfb",
   "metadata": {
    "tags": []
   },
   "outputs": [],
   "source": [
    "%pip install bedrock-python-sdk/botocore-1.31.21-py3-none-any.whl"
   ]
  },
  {
   "cell_type": "code",
   "execution_count": null,
   "id": "c4551374-2d5c-4e79-b2f5-61bcad3a1648",
   "metadata": {
    "tags": []
   },
   "outputs": [],
   "source": [
    "%pip install bedrock-python-sdk/boto3-1.28.21-py3-none-any.whl"
   ]
  },
  {
   "cell_type": "code",
   "execution_count": null,
   "id": "fa9b453a-e41d-4fb7-86e4-ca7cd23b0b81",
   "metadata": {
    "tags": []
   },
   "outputs": [],
   "source": [
    "%pip install bedrock-python-sdk/awscli-1.29.21-py3-none-any.whl"
   ]
  },
  {
   "cell_type": "code",
   "execution_count": null,
   "id": "6837987d-626f-4a84-85cc-9aad28b66734",
   "metadata": {
    "tags": []
   },
   "outputs": [],
   "source": [
    "%pip install requests_aws4auth opensearch-py"
   ]
  },
  {
   "cell_type": "code",
   "execution_count": 24,
   "id": "40f222e9-d9d0-4d85-b683-fa987851399c",
   "metadata": {
    "tags": []
   },
   "outputs": [],
   "source": [
    "import os\n",
    "os.environ['BWB_REGION_NAME']='us-west-2'\n",
    "os.environ['BWB_PROFILE_NAME']='default'\n",
    "os.environ['BWB_ENDPOINT_URL']='https://bedrock.us-west-2.amazonaws.com'"
   ]
  },
  {
   "cell_type": "code",
   "execution_count": 2,
   "id": "8898854a-2685-43da-b31e-fff693685cdf",
   "metadata": {
    "tags": []
   },
   "outputs": [
    {
     "name": "stdout",
     "output_type": "stream",
     "text": [
      "https://bedrock.us-west-2.amazonaws.com\n"
     ]
    }
   ],
   "source": [
    "print(os.environ.get('BWB_ENDPOINT_URL'))"
   ]
  },
  {
   "cell_type": "code",
   "execution_count": 25,
   "id": "ea2dd8cb-22ab-43bb-98e2-a74675272309",
   "metadata": {
    "tags": []
   },
   "outputs": [
    {
     "data": {
      "text/plain": [
       "{'ResponseMetadata': {'RequestId': '05f5b39b-4219-4997-b43b-9005371bcb4f',\n",
       "  'HTTPStatusCode': 200,\n",
       "  'HTTPHeaders': {'date': 'Sat, 26 Aug 2023 12:55:48 GMT',\n",
       "   'content-type': 'application/json',\n",
       "   'content-length': '1166',\n",
       "   'connection': 'keep-alive',\n",
       "   'x-amzn-requestid': '05f5b39b-4219-4997-b43b-9005371bcb4f'},\n",
       "  'RetryAttempts': 0},\n",
       " 'modelSummaries': [{'modelArn': 'arn:aws:bedrock:us-west-2::foundation-model/amazon.titan-tg1-large',\n",
       "   'modelId': 'amazon.titan-tg1-large'},\n",
       "  {'modelArn': 'arn:aws:bedrock:us-west-2::foundation-model/amazon.titan-e1t-medium',\n",
       "   'modelId': 'amazon.titan-e1t-medium'},\n",
       "  {'modelArn': 'arn:aws:bedrock:us-west-2::foundation-model/stability.stable-diffusion-xl',\n",
       "   'modelId': 'stability.stable-diffusion-xl'},\n",
       "  {'modelArn': 'arn:aws:bedrock:us-west-2::foundation-model/ai21.j2-grande-instruct',\n",
       "   'modelId': 'ai21.j2-grande-instruct'},\n",
       "  {'modelArn': 'arn:aws:bedrock:us-west-2::foundation-model/ai21.j2-jumbo-instruct',\n",
       "   'modelId': 'ai21.j2-jumbo-instruct'},\n",
       "  {'modelArn': 'arn:aws:bedrock:us-west-2::foundation-model/ai21.j2-mid',\n",
       "   'modelId': 'ai21.j2-mid'},\n",
       "  {'modelArn': 'arn:aws:bedrock:us-west-2::foundation-model/ai21.j2-ultra',\n",
       "   'modelId': 'ai21.j2-ultra'},\n",
       "  {'modelArn': 'arn:aws:bedrock:us-west-2::foundation-model/anthropic.claude-instant-v1',\n",
       "   'modelId': 'anthropic.claude-instant-v1'},\n",
       "  {'modelArn': 'arn:aws:bedrock:us-west-2::foundation-model/anthropic.claude-v1',\n",
       "   'modelId': 'anthropic.claude-v1'},\n",
       "  {'modelArn': 'arn:aws:bedrock:us-west-2::foundation-model/anthropic.claude-v2',\n",
       "   'modelId': 'anthropic.claude-v2'}]}"
      ]
     },
     "execution_count": 25,
     "metadata": {},
     "output_type": "execute_result"
    }
   ],
   "source": [
    "import boto3\n",
    "import json\n",
    "bedrock = boto3.client(\n",
    "    service_name='bedrock',\n",
    "    region_name=os.environ.get('BWB_REGION_NAME'),\n",
    "    endpoint_url=os.environ.get('BWB_ENDPOINT_URL')\n",
    ")\n",
    "bedrock.list_foundation_models()"
   ]
  },
  {
   "cell_type": "code",
   "execution_count": 52,
   "id": "6a1ad850-370c-49f0-8fed-5833e33508f2",
   "metadata": {
    "tags": []
   },
   "outputs": [
    {
     "name": "stdout",
     "output_type": "stream",
     "text": [
      "\n",
      "The largest city in New Hampshire is Manchester.\n"
     ]
    }
   ],
   "source": [
    "## Quick Test to ensure bedrock invoke api call is working\n",
    "bedrock_model_id = \"amazon.titan-tg1-large\" #set the model to Titan\n",
    "\n",
    "prompt = \"What is the largest city in New Hampshire?\" #the prompt to send to the model\n",
    "\n",
    "body = json.dumps({\"inputText\": prompt, \"textGenerationConfig\": {\"maxTokenCount\": 512, \"stopSequences\": [], \"temperature\": 0, \"topP\": 0.9 } } ) #build the request payload\n",
    "\n",
    "response = bedrock.invoke_model(body=body, modelId=bedrock_model_id, accept='application/json', contentType='application/json') #send the payload to Bedrock\n",
    "\n",
    "response_body = json.loads(response.get('body').read()) # read the response\n",
    "\n",
    "response_text = response_body.get('results')[0].get('outputText') #extract the text from the JSON response\n",
    "\n",
    "print(response_text)"
   ]
  },
  {
   "cell_type": "markdown",
   "id": "d9e185cb-c477-4320-9714-20f6ca336d4c",
   "metadata": {},
   "source": [
    "## Opensearch Related Setup"
   ]
  },
  {
   "cell_type": "code",
   "execution_count": 27,
   "id": "2170a07f-89ca-4830-a35f-a9781f63bb0c",
   "metadata": {
    "tags": []
   },
   "outputs": [
    {
     "name": "stdout",
     "output_type": "stream",
     "text": [
      "2.0.1\n"
     ]
    }
   ],
   "source": [
    "import torch\n",
    "print(torch.__version__)"
   ]
  },
  {
   "cell_type": "code",
   "execution_count": null,
   "id": "5e210349-16c0-4b0d-ba73-50e13db3b140",
   "metadata": {
    "tags": []
   },
   "outputs": [],
   "source": [
    "!pip install opensearch-py-ml\n",
    "!pip install accelerate\n",
    "!pip install deprecated"
   ]
  },
  {
   "cell_type": "code",
   "execution_count": 28,
   "id": "2923e34e-4b95-45a8-abbe-75362b4793e0",
   "metadata": {
    "tags": []
   },
   "outputs": [
    {
     "data": {
      "text/plain": [
       "{'OpenSourceDomainArn': 'arn:aws:es:us-west-2:391834123224:domain/opensearchservi-qvcuu1lushdf',\n",
       " 'OpenSearchDomainEndpoint': 'search-opensearchservi-qvcuu1lushdf-jb3abyebhhd46nuscyz6acpw64.us-west-2.es.amazonaws.com',\n",
       " 'S3BucketSecureURL': 'https://semantic-search-s3buckethosting-1kagnhrse3kpz.s3.amazonaws.com',\n",
       " 'SageMakerNotebookURL': 'https://console.aws.amazon.com/sagemaker/home?region=us-east-1#/notebook-instances/openNotebook/NotebookInstance-VSLeA5HkwiJK?view=classic',\n",
       " 's3BucketTraining': 'semantic-search-s3buckettraining-1t19qj06o6pyi',\n",
       " 'Region': 'us-west-2',\n",
       " 'OpenSearchDomainName': 'opensearchservi-qvcuu1lushdf',\n",
       " 's3BucketHostingBucketName': 'semantic-search-s3buckethosting-1kagnhrse3kpz'}"
      ]
     },
     "execution_count": 28,
     "metadata": {},
     "output_type": "execute_result"
    }
   ],
   "source": [
    "import boto3\n",
    "\n",
    "cfn = boto3.client('cloudformation')\n",
    "\n",
    "def get_cfn_outputs(stackname):\n",
    "    outputs = {}\n",
    "    for output in cfn.describe_stacks(StackName=stackname)['Stacks'][0]['Outputs']:\n",
    "        outputs[output['OutputKey']] = output['OutputValue']\n",
    "    return outputs\n",
    "\n",
    "## Setup variables to use for the rest of the demo\n",
    "cloudformation_stack_name = \"semantic-search\"\n",
    "\n",
    "outputs = get_cfn_outputs(cloudformation_stack_name)\n",
    "\n",
    "bucket = outputs['s3BucketTraining']\n",
    "aos_host = outputs['OpenSearchDomainEndpoint']\n",
    "\n",
    "outputs"
   ]
  },
  {
   "cell_type": "code",
   "execution_count": 53,
   "id": "ed64ace9-5f73-45a2-929d-95249b6201fb",
   "metadata": {
    "tags": []
   },
   "outputs": [],
   "source": [
    "from opensearchpy import OpenSearch, RequestsHttpConnection, AWSV4SignerAuth\n",
    "import boto3\n",
    "\n",
    "region = 'us-west-2' \n",
    "\n",
    "#credentials = boto3.Session().get_credentials()\n",
    "#auth = AWSV4SignerAuth(credentials, region)\n",
    "auth = (\"master\",\"Semantic123!\")\n",
    "#index_name = 'nlp_pqa'\n",
    "\n",
    "aos_client = OpenSearch(\n",
    "    hosts = [{'host': aos_host, 'port': 443}],\n",
    "    http_auth = auth,\n",
    "    use_ssl = True,\n",
    "    verify_certs = True,\n",
    "    connection_class = RequestsHttpConnection\n",
    ")"
   ]
  },
  {
   "cell_type": "markdown",
   "id": "923544f0-cd6d-4817-9680-e38ab223f15f",
   "metadata": {},
   "source": [
    "### Configure OpenSearch domain to enable run Machine Learning code in data node"
   ]
  },
  {
   "cell_type": "code",
   "execution_count": 46,
   "id": "e5bfb681-adf7-48bd-9d8f-f626519ad171",
   "metadata": {
    "tags": []
   },
   "outputs": [
    {
     "data": {
      "text/plain": [
       "{'acknowledged': True,\n",
       " 'persistent': {},\n",
       " 'transient': {'plugins': {'ml_commons': {'only_run_on_ml_node': 'false'}}}}"
      ]
     },
     "execution_count": 46,
     "metadata": {},
     "output_type": "execute_result"
    }
   ],
   "source": [
    "s = b'{\"transient\":{\"plugins.ml_commons.only_run_on_ml_node\": false}}'\n",
    "aos_client.cluster.put_settings(body=s)"
   ]
  },
  {
   "cell_type": "code",
   "execution_count": 47,
   "id": "6379284f-3296-4e92-9d46-20ed057a706d",
   "metadata": {
    "tags": []
   },
   "outputs": [
    {
     "data": {
      "text/plain": [
       "{'persistent': {'aes.jetty.admission_control.global_cpu_usage.window_duration': '300s',\n",
       "  'cluster.routing.allocation.awareness.force.zone.values': 'xx-xxxxx-xx',\n",
       "  'cluster.routing.allocation.disk.watermark.flood_stage': '0.9758094787597656gb',\n",
       "  'cluster.routing.allocation.disk.watermark.high': '1.9516189575195313gb',\n",
       "  'cluster.routing.allocation.disk.watermark.low': '2.9274284362792966gb',\n",
       "  'cluster.routing.allocation.load_awareness.provisioned_capacity': '1',\n",
       "  'cluster.routing.allocation.load_awareness.skew_factor': '50.0',\n",
       "  'cluster_manager.throttling.thresholds.auto-create.value': '200',\n",
       "  'cluster_manager.throttling.thresholds.cluster-reroute-api.value': '50',\n",
       "  'cluster_manager.throttling.thresholds.cluster-update-settings.value': '50',\n",
       "  'cluster_manager.throttling.thresholds.create-component-template.value': '50',\n",
       "  'cluster_manager.throttling.thresholds.create-data-stream.value': '50',\n",
       "  'cluster_manager.throttling.thresholds.create-index-template-v2.value': '50',\n",
       "  'cluster_manager.throttling.thresholds.create-index-template.value': '50',\n",
       "  'cluster_manager.throttling.thresholds.create-index.value': '50',\n",
       "  'cluster_manager.throttling.thresholds.create-persistent-task.value': '200',\n",
       "  'cluster_manager.throttling.thresholds.create-snapshot.value': '50',\n",
       "  'cluster_manager.throttling.thresholds.delete-dangling-index.value': '50',\n",
       "  'cluster_manager.throttling.thresholds.delete-index.value': '50',\n",
       "  'cluster_manager.throttling.thresholds.delete-pipeline.value': '200',\n",
       "  'cluster_manager.throttling.thresholds.delete-repository.value': '50',\n",
       "  'cluster_manager.throttling.thresholds.delete-script.value': '200',\n",
       "  'cluster_manager.throttling.thresholds.delete-snapshot.value': '50',\n",
       "  'cluster_manager.throttling.thresholds.finish-persistent-task.value': '200',\n",
       "  'cluster_manager.throttling.thresholds.index-aliases.value': '200',\n",
       "  'cluster_manager.throttling.thresholds.put-mapping.value': '10000',\n",
       "  'cluster_manager.throttling.thresholds.put-pipeline.value': '200',\n",
       "  'cluster_manager.throttling.thresholds.put-repository.value': '50',\n",
       "  'cluster_manager.throttling.thresholds.put-script.value': '200',\n",
       "  'cluster_manager.throttling.thresholds.remove-component-template.value': '50',\n",
       "  'cluster_manager.throttling.thresholds.remove-data-stream.value': '50',\n",
       "  'cluster_manager.throttling.thresholds.remove-index-template-v2.value': '50',\n",
       "  'cluster_manager.throttling.thresholds.remove-index-template.value': '50',\n",
       "  'cluster_manager.throttling.thresholds.remove-persistent-task.value': '200',\n",
       "  'cluster_manager.throttling.thresholds.restore-snapshot.value': '50',\n",
       "  'cluster_manager.throttling.thresholds.rollover-index.value': '200',\n",
       "  'cluster_manager.throttling.thresholds.update-settings.value': '50',\n",
       "  'cluster_manager.throttling.thresholds.update-snapshot-state.value': '5000',\n",
       "  'cluster_manager.throttling.thresholds.update-task-state.value': '200',\n",
       "  'plugins.index_state_management.template_migration.control': '-1',\n",
       "  'search_backpressure.node_duress.heap_threshold': '0.85'},\n",
       " 'transient': {'aes.jetty.admission_control.global_cpu_usage.window_duration': '300s',\n",
       "  'cluster.routing.allocation.awareness.force.zone.values': 'xx-xxxxx-xx',\n",
       "  'cluster.routing.allocation.disk.watermark.flood_stage': '0.9758094787597656gb',\n",
       "  'cluster.routing.allocation.disk.watermark.high': '1.9516189575195313gb',\n",
       "  'cluster.routing.allocation.disk.watermark.low': '2.9274284362792966gb',\n",
       "  'cluster.routing.allocation.load_awareness.provisioned_capacity': '1',\n",
       "  'cluster.routing.allocation.load_awareness.skew_factor': '50.0',\n",
       "  'plugins.ml_commons.only_run_on_ml_node': 'false',\n",
       "  'search_backpressure.node_duress.heap_threshold': '0.85'}}"
      ]
     },
     "execution_count": 47,
     "metadata": {},
     "output_type": "execute_result"
    }
   ],
   "source": [
    "aos_client.cluster.get_settings(flat_settings=True)"
   ]
  },
  {
   "cell_type": "markdown",
   "id": "a7f509d1-cf11-4542-8a7f-1955e1434ede",
   "metadata": {},
   "source": [
    "### Downloadning some docs in pdf for chunking and then ingestion"
   ]
  },
  {
   "cell_type": "code",
   "execution_count": null,
   "id": "2eb0ecb9-5581-4550-9816-cd552cea639f",
   "metadata": {
    "tags": []
   },
   "outputs": [],
   "source": [
    "!rm -fr data\n",
    "!mkdir data\n",
    "\n",
    "from urllib.request import urlretrieve\n",
    "files = [\n",
    "    'https://docs.aws.amazon.com/apigateway/latest/developerguide/apigateway-dg.pdf',\n",
    "    'https://docs.aws.amazon.com/codewhisperer/latest/userguide/user-guide.pdf',\n",
    "    'https://docs.aws.amazon.com/dlami/latest/devguide/dlami-dg.pdf'\n",
    "]\n",
    "for url in files:\n",
    "    file_path = './data/' + url.split('/')[-1]\n",
    "    urlretrieve(url, file_path)"
   ]
  },
  {
   "cell_type": "markdown",
   "id": "8afdaafd-b995-460f-9a80-334c47b5b656",
   "metadata": {},
   "source": [
    "### Setup langchain for loading the pdf, and chunking"
   ]
  },
  {
   "cell_type": "code",
   "execution_count": null,
   "id": "e76556a5-b667-4e27-aa26-a87c4c926fe7",
   "metadata": {
    "tags": []
   },
   "outputs": [],
   "source": [
    " # We will be using the Titan Embeddings Model to generate our Embeddings.\n",
    "from langchain.embeddings import BedrockEmbeddings\n",
    "from langchain.llms.bedrock import Bedrock\n",
    "\n",
    "# - create the Anthropic Model\n",
    "#claude_llm = Bedrock(model_id=\"anthropic.claude-v1\", client=boto3_bedrock, model_kwargs={'max_tokens_to_sample':200})\n",
    "#titan_llm = Bedrock(model_id= \"amazon.titan-tg1-large\", client=boto3_bedrock)\n",
    "bedrock_embeddings = BedrockEmbeddings(client=bedrock)"
   ]
  },
  {
   "cell_type": "code",
   "execution_count": 139,
   "id": "00cc7bdd-1bfb-41fd-8c20-e68b4730b509",
   "metadata": {
    "tags": []
   },
   "outputs": [],
   "source": [
    "import numpy as np\n",
    "from langchain.text_splitter import CharacterTextSplitter, RecursiveCharacterTextSplitter\n",
    "from langchain.document_loaders import PyPDFLoader, PyPDFDirectoryLoader\n",
    "\n",
    "loader = PyPDFDirectoryLoader(\"./data/\")\n",
    "\n",
    "documents = loader.load()\n",
    "# - in our testing Character split works better with this PDF data set\n",
    "text_splitter = RecursiveCharacterTextSplitter(\n",
    "    # Set a really small chunk size, just to show.\n",
    "    chunk_size = 1500,\n",
    "    chunk_overlap  = 100,\n",
    ")\n",
    "docs = text_splitter.split_documents(documents)"
   ]
  },
  {
   "cell_type": "code",
   "execution_count": 140,
   "id": "8cc6ca9a-bd67-43ec-b64a-26caca980bbf",
   "metadata": {
    "tags": []
   },
   "outputs": [
    {
     "name": "stdout",
     "output_type": "stream",
     "text": [
      "Average length among 1134 documents loaded is 2060 characters.\n",
      "After the split we have 2207 documents more than the original 1134.\n",
      "Average length among 2207 documents (after split) is 1086 characters.\n"
     ]
    }
   ],
   "source": [
    "avg_doc_length = lambda documents: sum([len(doc.page_content) for doc in documents])//len(documents)\n",
    "avg_char_count_pre = avg_doc_length(documents)\n",
    "avg_char_count_post = avg_doc_length(docs)\n",
    "print(f'Average length among {len(documents)} documents loaded is {avg_char_count_pre} characters.')\n",
    "print(f'After the split we have {len(docs)} documents more than the original {len(documents)}.')\n",
    "print(f'Average length among {len(docs)} documents (after split) is {avg_char_count_post} characters.')"
   ]
  },
  {
   "cell_type": "markdown",
   "id": "36cae9a1-a9e5-4ebb-945c-08245894319e",
   "metadata": {},
   "source": [
    "### Register pre-trained model to OpenSearch domain"
   ]
  },
  {
   "cell_type": "code",
   "execution_count": null,
   "id": "db0de294-057e-4276-92eb-e57ce5bba397",
   "metadata": {
    "tags": []
   },
   "outputs": [],
   "source": [
    "%pip install -U sentence-transformers"
   ]
  },
  {
   "cell_type": "code",
   "execution_count": 5,
   "id": "077d5041-48f1-4336-a9c2-794becd19407",
   "metadata": {},
   "outputs": [
    {
     "name": "stdout",
     "output_type": "stream",
     "text": [
      "Model was registered successfully. Model Id:  qk3fLooBGSulaPZDmnJX\n",
      "qk3fLooBGSulaPZDmnJX\n",
      "qk3fLooBGSulaPZDmnJX\n"
     ]
    }
   ],
   "source": [
    "from opensearch_py_ml.ml_models import SentenceTransformerModel\n",
    "from opensearch_py_ml.ml_commons import MLCommonClient\n",
    "\n",
    "ml_client = MLCommonClient(aos_client)\n",
    "model_id = ml_client.register_pretrained_model(model_name = \"huggingface/sentence-transformers/all-MiniLM-L12-v2\", model_version = \"1.0.1\", model_format = \"TORCH_SCRIPT\", deploy_model=False, wait_until_deployed=False)\n",
    "print(model_id)"
   ]
  },
  {
   "cell_type": "markdown",
   "id": "87665e2a-7eeb-4a59-9c41-c9cddbdde9d9",
   "metadata": {},
   "source": [
    "### Load the model for inference."
   ]
  },
  {
   "cell_type": "code",
   "execution_count": 36,
   "id": "5274a212-98b3-4f09-a2a6-e6fac2d339bb",
   "metadata": {},
   "outputs": [
    {
     "name": "stdout",
     "output_type": "stream",
     "text": [
      "Model deployed successfully\n",
      "{'model_id': 'qk3fLooBGSulaPZDmnJX', 'task_type': 'DEPLOY_MODEL', 'function_name': 'TEXT_EMBEDDING', 'state': 'COMPLETED', 'worker_node': ['LB9NbUrUR5KqokfPl1O_mQ'], 'create_time': 1693054694494, 'last_update_time': 1693054694519, 'is_async': True}\n"
     ]
    }
   ],
   "source": [
    "load_model_output = ml_client.deploy_model(model_id) #qk3fLooBGSulaPZDmnJX\n",
    "\n",
    "print(load_model_output)"
   ]
  },
  {
   "cell_type": "markdown",
   "id": "2561fb34-0e39-4a45-8f29-0d12fa9d23b3",
   "metadata": {},
   "source": [
    "### Get the model detailed information."
   ]
  },
  {
   "cell_type": "code",
   "execution_count": 37,
   "id": "2d68fadf-fd1a-4a08-8b69-25b88b80948d",
   "metadata": {},
   "outputs": [
    {
     "name": "stdout",
     "output_type": "stream",
     "text": [
      "{'name': 'huggingface/sentence-transformers/all-MiniLM-L12-v2', 'algorithm': 'TEXT_EMBEDDING', 'model_version': '1.0.1', 'model_format': 'TORCH_SCRIPT', 'model_state': 'DEPLOYED', 'model_content_size_in_bytes': 134568911, 'model_content_hash_value': 'f8012a4e6b5da1f556221a12160d080157039f077ab85a5f6b467a47247aad49', 'model_config': {'model_type': 'bert', 'embedding_dimension': 384, 'framework_type': 'SENTENCE_TRANSFORMERS', 'all_config': '{\"_name_or_path\":\"microsoft/MiniLM-L12-H384-uncased\",\"attention_probs_dropout_prob\":0.1,\"gradient_checkpointing\":false,\"hidden_act\":\"gelu\",\"hidden_dropout_prob\":0.1,\"hidden_size\":384,\"initializer_range\":0.02,\"intermediate_size\":1536,\"layer_norm_eps\":1e-12,\"max_position_embeddings\":512,\"model_type\":\"bert\",\"num_attention_heads\":12,\"num_hidden_layers\":12,\"pad_token_id\":0,\"position_embedding_type\":\"absolute\",\"transformers_version\":\"4.8.2\",\"type_vocab_size\":2,\"use_cache\":true,\"vocab_size\":30522}'}, 'created_time': 1693003520599, 'last_updated_time': 1693054694519, 'last_registered_time': 1693003525224, 'last_deployed_time': 1693054694519, 'total_chunks': 14, 'planning_worker_node_count': 1, 'current_worker_node_count': 1, 'planning_worker_nodes': ['LB9NbUrUR5KqokfPl1O_mQ'], 'deploy_to_all_nodes': True}\n"
     ]
    }
   ],
   "source": [
    "model_info = ml_client.get_model_info(model_id)\n",
    "\n",
    "print(model_info)"
   ]
  },
  {
   "cell_type": "markdown",
   "id": "5364c6e3-a2bb-4d5a-abea-ff217af49c8c",
   "metadata": {
    "tags": []
   },
   "source": [
    "### Create pipeline to convert text into vector with BERT model\n",
    "We will use the just uploaded model to convert `` field into vector(embedding) and stored into `\n",
    "_vector` field."
   ]
  },
  {
   "cell_type": "code",
   "execution_count": 135,
   "id": "22be55d5-921c-4e05-86ac-86b0a3f97f11",
   "metadata": {
    "tags": []
   },
   "outputs": [
    {
     "data": {
      "text/plain": [
       "{'acknowledged': True}"
      ]
     },
     "execution_count": 135,
     "metadata": {},
     "output_type": "execute_result"
    }
   ],
   "source": [
    "pipeline={\n",
    "  \"description\": \"An example neural search pipeline\",\n",
    "  \"processors\" : [\n",
    "    {\n",
    "      \"text_embedding\": {\n",
    "        \"model_id\": model_id,\n",
    "        \"field_map\": {\n",
    "           \"pdf_text\": \"pdf_text_vector\"\n",
    "        }\n",
    "      }\n",
    "    }\n",
    "  ]\n",
    "}\n",
    "pipeline_id = 'nlp_pipeline'\n",
    "aos_client.ingest.put_pipeline(id=pipeline_id,body=pipeline)"
   ]
  },
  {
   "cell_type": "markdown",
   "id": "40bbdfe8-dd48-4807-bfb7-3b03f0262814",
   "metadata": {
    "tags": []
   },
   "source": [
    "### 12. Create a index in Amazon Opensearch Service \n",
    "Whereas we previously created an index with 2 fields, this time we'll define the index with 3 fields: the first field ' question_vector' holds the vector representation of the question, the second is the \"question\" for raw sentence and the third field is \"answer\" for the raw answer data.\n",
    "\n",
    "To create the index, we first define the index in JSON, then use the aos_client connection we initiated ealier to create the index in OpenSearch."
   ]
  },
  {
   "cell_type": "code",
   "execution_count": 136,
   "id": "6f923545-d095-4593-86e5-4592496513f4",
   "metadata": {},
   "outputs": [],
   "source": [
    "awsdoc_index = {\n",
    "    \"settings\": {\n",
    "        \"index.knn\": True,\n",
    "        \"index.knn.space_type\": \"cosinesimil\",\n",
    "        \"default_pipeline\": pipeline_id,\n",
    "        \"analysis\": {\n",
    "          \"analyzer\": {\n",
    "            \"default\": {\n",
    "              \"type\": \"standard\",\n",
    "              \"stopwords\": \"_english_\"\n",
    "            }\n",
    "          }\n",
    "        }\n",
    "    },\n",
    "    \"mappings\": {\n",
    "        \"properties\": {\n",
    "            \"pdf_text_vector\": {\n",
    "                \"type\": \"knn_vector\",\n",
    "                \"dimension\": 384,\n",
    "                \"method\": {\n",
    "                    \"name\": \"hnsw\",\n",
    "                    \"space_type\": \"l2\",\n",
    "                    \"engine\": \"faiss\"\n",
    "                },\n",
    "                \"store\": True\n",
    "            },\n",
    "            \"pdf_text\": {\n",
    "                \"type\": \"text\",\n",
    "                \"store\": True\n",
    "            },\n",
    "            \"document_title\": {\n",
    "                \"type\": \"text\",\n",
    "                \"store\": True\n",
    "            },\n",
    "            \"page_number\": {\n",
    "                \"type\": \"text\",\n",
    "                \"store\": True\n",
    "            }\n",
    "        }\n",
    "    }\n",
    "}"
   ]
  },
  {
   "cell_type": "code",
   "execution_count": 137,
   "id": "2fca1cfa-0386-4e04-9940-88bf9f13283d",
   "metadata": {},
   "outputs": [
    {
     "data": {
      "text/plain": [
       "{'acknowledged': True, 'shards_acknowledged': True, 'index': 'nlp_awsdocs'}"
      ]
     },
     "execution_count": 137,
     "metadata": {},
     "output_type": "execute_result"
    }
   ],
   "source": [
    "aos_client.indices.delete(index=\"nlp_awsdocs\")\n",
    "\n",
    "aos_client.indices.create(index=\"nlp_awsdocs\",body=awsdoc_index,ignore=400)"
   ]
  },
  {
   "cell_type": "code",
   "execution_count": 138,
   "id": "e52f8b2d-076a-4a76-ab2a-b7763c83aa9d",
   "metadata": {
    "tags": []
   },
   "outputs": [
    {
     "data": {
      "text/plain": [
       "{'nlp_awsdocs': {'aliases': {},\n",
       "  'mappings': {'properties': {'document_title': {'type': 'text',\n",
       "     'store': True},\n",
       "    'page_number': {'type': 'text', 'store': True},\n",
       "    'pdf_text': {'type': 'text', 'store': True},\n",
       "    'pdf_text_vector': {'type': 'knn_vector',\n",
       "     'store': True,\n",
       "     'dimension': 384,\n",
       "     'method': {'engine': 'faiss',\n",
       "      'space_type': 'l2',\n",
       "      'name': 'hnsw',\n",
       "      'parameters': {}}}}},\n",
       "  'settings': {'index': {'number_of_shards': '5',\n",
       "    'provided_name': 'nlp_awsdocs',\n",
       "    'knn.space_type': 'cosinesimil',\n",
       "    'default_pipeline': 'nlp_pipeline',\n",
       "    'knn': 'true',\n",
       "    'creation_date': '1693161785104',\n",
       "    'analysis': {'analyzer': {'default': {'type': 'standard',\n",
       "       'stopwords': '_english_'}}},\n",
       "    'number_of_replicas': '1',\n",
       "    'uuid': '4X-HnkhCTK6vhMmkzzkUXg',\n",
       "    'version': {'created': '136287827'}}}}}"
      ]
     },
     "execution_count": 138,
     "metadata": {},
     "output_type": "execute_result"
    }
   ],
   "source": [
    "# Let's verify created index\n",
    "aos_client.indices.get(index=\"nlp_awsdocs\")"
   ]
  },
  {
   "cell_type": "code",
   "execution_count": 143,
   "id": "c80cc786-7000-4696-9161-12bb7c914362",
   "metadata": {
    "tags": []
   },
   "outputs": [],
   "source": [
    "# aos_client.index(index='nlp_pqa',body={\"question\": content,\"answer\":answer})\n",
    "\n",
    "for document in docs: \n",
    "    aos_client.index(index='nlp_awsdocs',\n",
    "                     body={\n",
    "                         \"pdf_text\" : document.page_content,\n",
    "                         \"document_title\" : document.metadata['source'].split('/')[1],\n",
    "                         \"page_number\" : document.metadata['page']\n",
    "                     }\n",
    "                    )"
   ]
  },
  {
   "cell_type": "code",
   "execution_count": 144,
   "id": "e397d8d4-022f-45ae-a712-1bcfb32f95ae",
   "metadata": {
    "tags": []
   },
   "outputs": [
    {
     "name": "stdout",
     "output_type": "stream",
     "text": [
      "Records found: 2810.\n"
     ]
    }
   ],
   "source": [
    "# To validate the load, we'll query the number of documents number in the index. We should have 2319 hits in the index.\n",
    "res = aos_client.search(index=\"nlp_awsdocs\", body={\"query\": {\"match_all\": {}}})\n",
    "print(\"Records found: %d.\" % res['hits']['total']['value'])"
   ]
  },
  {
   "cell_type": "code",
   "execution_count": 156,
   "id": "47953a5a-d8ea-45ec-9b2e-414515e36ebf",
   "metadata": {
    "tags": []
   },
   "outputs": [
    {
     "name": "stdout",
     "output_type": "stream",
     "text": [
      "Got 411 Hits:\n"
     ]
    },
    {
     "data": {
      "text/html": [
       "<div>\n",
       "<style scoped>\n",
       "    .dataframe tbody tr th:only-of-type {\n",
       "        vertical-align: middle;\n",
       "    }\n",
       "\n",
       "    .dataframe tbody tr th {\n",
       "        vertical-align: top;\n",
       "    }\n",
       "\n",
       "    .dataframe thead th {\n",
       "        text-align: right;\n",
       "    }\n",
       "</style>\n",
       "<table border=\"1\" class=\"dataframe\">\n",
       "  <thead>\n",
       "    <tr style=\"text-align: right;\">\n",
       "      <th></th>\n",
       "      <th>_id</th>\n",
       "      <th>_score</th>\n",
       "      <th>pdf_text</th>\n",
       "      <th>page_number</th>\n",
       "    </tr>\n",
       "  </thead>\n",
       "  <tbody>\n",
       "    <tr>\n",
       "      <th>0</th>\n",
       "      <td>AE1UOIoBGSulaPZDVICJ</td>\n",
       "      <td>0.581722</td>\n",
       "      <td>packages.microsoft.com/yumrepos/vscode\\nenable...</td>\n",
       "      <td>110</td>\n",
       "    </tr>\n",
       "    <tr>\n",
       "      <th>1</th>\n",
       "      <td>W01TOIoBGSulaPZDp3-I</td>\n",
       "      <td>0.547181</td>\n",
       "      <td>CodeWhisperer User Guide\\nInstalling or updati...</td>\n",
       "      <td>6</td>\n",
       "    </tr>\n",
       "    <tr>\n",
       "      <th>2</th>\n",
       "      <td>yU1SOIoBGSulaPZDB33F</td>\n",
       "      <td>0.547181</td>\n",
       "      <td>CodeWhisperer User Guide\\nInstalling or updati...</td>\n",
       "      <td>6</td>\n",
       "    </tr>\n",
       "    <tr>\n",
       "      <th>3</th>\n",
       "      <td>4k1SOIoBGSulaPZDB33F</td>\n",
       "      <td>0.542482</td>\n",
       "      <td>CodeWhisperer User Guide\\nWith VS Code and Jet...</td>\n",
       "      <td>20</td>\n",
       "    </tr>\n",
       "    <tr>\n",
       "      <th>4</th>\n",
       "      <td>dE1TOIoBGSulaPZDwn_z</td>\n",
       "      <td>0.542482</td>\n",
       "      <td>CodeWhisperer User Guide\\nWith VS Code and Jet...</td>\n",
       "      <td>20</td>\n",
       "    </tr>\n",
       "    <tr>\n",
       "      <th>5</th>\n",
       "      <td>5E1SOIoBGSulaPZDB33F</td>\n",
       "      <td>0.528323</td>\n",
       "      <td>CodeWhisperer User Guide\\nCodeWhisperer Profes...</td>\n",
       "      <td>21</td>\n",
       "    </tr>\n",
       "    <tr>\n",
       "      <th>6</th>\n",
       "      <td>dk1TOIoBGSulaPZDxX81</td>\n",
       "      <td>0.528323</td>\n",
       "      <td>CodeWhisperer User Guide\\nCodeWhisperer Profes...</td>\n",
       "      <td>21</td>\n",
       "    </tr>\n",
       "    <tr>\n",
       "      <th>7</th>\n",
       "      <td>Ak1SOIoBGSulaPZDB37F</td>\n",
       "      <td>0.514997</td>\n",
       "      <td>CodeWhisperer User Guide\\nPausing suggestions1...</td>\n",
       "      <td>43</td>\n",
       "    </tr>\n",
       "    <tr>\n",
       "      <th>8</th>\n",
       "      <td>lE1TOIoBGSulaPZD5H81</td>\n",
       "      <td>0.514997</td>\n",
       "      <td>CodeWhisperer User Guide\\nPausing suggestions1...</td>\n",
       "      <td>43</td>\n",
       "    </tr>\n",
       "    <tr>\n",
       "      <th>9</th>\n",
       "      <td>_01SOIoBGSulaPZDB33F</td>\n",
       "      <td>0.507726</td>\n",
       "      <td>CodeWhisperer User Guide\\nIDE supportCodeWhisp...</td>\n",
       "      <td>41</td>\n",
       "    </tr>\n",
       "    <tr>\n",
       "      <th>10</th>\n",
       "      <td>kU1TOIoBGSulaPZD4H_R</td>\n",
       "      <td>0.507726</td>\n",
       "      <td>CodeWhisperer User Guide\\nIDE supportCodeWhisp...</td>\n",
       "      <td>41</td>\n",
       "    </tr>\n",
       "    <tr>\n",
       "      <th>11</th>\n",
       "      <td>BU1SOIoBGSulaPZDB37F</td>\n",
       "      <td>0.507507</td>\n",
       "      <td>CodeWhisperer User Guide\\nSecurity scansAWS Gl...</td>\n",
       "      <td>46</td>\n",
       "    </tr>\n",
       "    <tr>\n",
       "      <th>12</th>\n",
       "      <td>l01TOIoBGSulaPZD538C</td>\n",
       "      <td>0.507507</td>\n",
       "      <td>CodeWhisperer User Guide\\nSecurity scansAWS Gl...</td>\n",
       "      <td>46</td>\n",
       "    </tr>\n",
       "    <tr>\n",
       "      <th>13</th>\n",
       "      <td>wE1UOIoBGSulaPZDEH8H</td>\n",
       "      <td>0.504374</td>\n",
       "      <td>CodeWhisperer User Guide\\nOpting out of sharin...</td>\n",
       "      <td>81</td>\n",
       "    </tr>\n",
       "    <tr>\n",
       "      <th>14</th>\n",
       "      <td>wU1SOIoBGSulaPZDB33F</td>\n",
       "      <td>0.503033</td>\n",
       "      <td>CodeWhisperer User Guide Single-line code comp...</td>\n",
       "      <td>3</td>\n",
       "    </tr>\n",
       "    <tr>\n",
       "      <th>15</th>\n",
       "      <td>U01TOIoBGSulaPZDn38F</td>\n",
       "      <td>0.503033</td>\n",
       "      <td>CodeWhisperer User Guide Single-line code comp...</td>\n",
       "      <td>3</td>\n",
       "    </tr>\n",
       "    <tr>\n",
       "      <th>16</th>\n",
       "      <td>B01SOIoBGSulaPZDB37F</td>\n",
       "      <td>0.500972</td>\n",
       "      <td>CodeWhisperer User Guide\\nActivating security ...</td>\n",
       "      <td>48</td>\n",
       "    </tr>\n",
       "    <tr>\n",
       "      <th>17</th>\n",
       "      <td>mU1TOIoBGSulaPZD53-a</td>\n",
       "      <td>0.500972</td>\n",
       "      <td>CodeWhisperer User Guide\\nActivating security ...</td>\n",
       "      <td>48</td>\n",
       "    </tr>\n",
       "    <tr>\n",
       "      <th>18</th>\n",
       "      <td>WE1TOIoBGSulaPZDpH-Z</td>\n",
       "      <td>0.498529</td>\n",
       "      <td>CodeWhisperer User Guide\\nChoosing your IDE\\nS...</td>\n",
       "      <td>5</td>\n",
       "    </tr>\n",
       "    <tr>\n",
       "      <th>19</th>\n",
       "      <td>xk1SOIoBGSulaPZDB33F</td>\n",
       "      <td>0.498529</td>\n",
       "      <td>CodeWhisperer User Guide\\nChoosing your IDE\\nS...</td>\n",
       "      <td>5</td>\n",
       "    </tr>\n",
       "    <tr>\n",
       "      <th>20</th>\n",
       "      <td>oU1TOIoBGSulaPZD73-j</td>\n",
       "      <td>0.498430</td>\n",
       "      <td>CodeWhisperer User Guide\\nToggling code refere...</td>\n",
       "      <td>55</td>\n",
       "    </tr>\n",
       "    <tr>\n",
       "      <th>21</th>\n",
       "      <td>D01SOIoBGSulaPZDB37F</td>\n",
       "      <td>0.498430</td>\n",
       "      <td>CodeWhisperer User Guide\\nToggling code refere...</td>\n",
       "      <td>55</td>\n",
       "    </tr>\n",
       "    <tr>\n",
       "      <th>22</th>\n",
       "      <td>uk1SOIoBGSulaPZDB33F</td>\n",
       "      <td>0.497956</td>\n",
       "      <td>CodeWhisperer\\nUser Guide</td>\n",
       "      <td>0</td>\n",
       "    </tr>\n",
       "    <tr>\n",
       "      <th>23</th>\n",
       "      <td>TE1TOIoBGSulaPZDl39E</td>\n",
       "      <td>0.497956</td>\n",
       "      <td>CodeWhisperer\\nUser Guide</td>\n",
       "      <td>0</td>\n",
       "    </tr>\n",
       "    <tr>\n",
       "      <th>24</th>\n",
       "      <td>vE1SOIoBGSulaPZDB33F</td>\n",
       "      <td>0.494440</td>\n",
       "      <td>CodeWhisperer User GuideTable of Contents\\nWha...</td>\n",
       "      <td>2</td>\n",
       "    </tr>\n",
       "    <tr>\n",
       "      <th>25</th>\n",
       "      <td>Tk1TOIoBGSulaPZDmX91</td>\n",
       "      <td>0.494440</td>\n",
       "      <td>CodeWhisperer User GuideTable of Contents\\nWha...</td>\n",
       "      <td>2</td>\n",
       "    </tr>\n",
       "    <tr>\n",
       "      <th>26</th>\n",
       "      <td>r01TOIoBGSulaPZD_385</td>\n",
       "      <td>0.490192</td>\n",
       "      <td>CodeWhisperer User Guide\\nSingle-line code com...</td>\n",
       "      <td>65</td>\n",
       "    </tr>\n",
       "    <tr>\n",
       "      <th>27</th>\n",
       "      <td>uk1UOIoBGSulaPZDCn-Y</td>\n",
       "      <td>0.489096</td>\n",
       "      <td>CodeWhisperer User Guide\\nSingle-line comment ...</td>\n",
       "      <td>76</td>\n",
       "    </tr>\n",
       "    <tr>\n",
       "      <th>28</th>\n",
       "      <td>6E1SOIoBGSulaPZDB33F</td>\n",
       "      <td>0.487143</td>\n",
       "      <td>2. In VS Code, with the AWS Toolkit for Visual...</td>\n",
       "      <td>24</td>\n",
       "    </tr>\n",
       "    <tr>\n",
       "      <th>29</th>\n",
       "      <td>ek1TOIoBGSulaPZDyX8A</td>\n",
       "      <td>0.487143</td>\n",
       "      <td>2. In VS Code, with the AWS Toolkit for Visual...</td>\n",
       "      <td>24</td>\n",
       "    </tr>\n",
       "  </tbody>\n",
       "</table>\n",
       "</div>"
      ],
      "text/plain": [
       "                     _id    _score  \\\n",
       "0   AE1UOIoBGSulaPZDVICJ  0.581722   \n",
       "1   W01TOIoBGSulaPZDp3-I  0.547181   \n",
       "2   yU1SOIoBGSulaPZDB33F  0.547181   \n",
       "3   4k1SOIoBGSulaPZDB33F  0.542482   \n",
       "4   dE1TOIoBGSulaPZDwn_z  0.542482   \n",
       "5   5E1SOIoBGSulaPZDB33F  0.528323   \n",
       "6   dk1TOIoBGSulaPZDxX81  0.528323   \n",
       "7   Ak1SOIoBGSulaPZDB37F  0.514997   \n",
       "8   lE1TOIoBGSulaPZD5H81  0.514997   \n",
       "9   _01SOIoBGSulaPZDB33F  0.507726   \n",
       "10  kU1TOIoBGSulaPZD4H_R  0.507726   \n",
       "11  BU1SOIoBGSulaPZDB37F  0.507507   \n",
       "12  l01TOIoBGSulaPZD538C  0.507507   \n",
       "13  wE1UOIoBGSulaPZDEH8H  0.504374   \n",
       "14  wU1SOIoBGSulaPZDB33F  0.503033   \n",
       "15  U01TOIoBGSulaPZDn38F  0.503033   \n",
       "16  B01SOIoBGSulaPZDB37F  0.500972   \n",
       "17  mU1TOIoBGSulaPZD53-a  0.500972   \n",
       "18  WE1TOIoBGSulaPZDpH-Z  0.498529   \n",
       "19  xk1SOIoBGSulaPZDB33F  0.498529   \n",
       "20  oU1TOIoBGSulaPZD73-j  0.498430   \n",
       "21  D01SOIoBGSulaPZDB37F  0.498430   \n",
       "22  uk1SOIoBGSulaPZDB33F  0.497956   \n",
       "23  TE1TOIoBGSulaPZDl39E  0.497956   \n",
       "24  vE1SOIoBGSulaPZDB33F  0.494440   \n",
       "25  Tk1TOIoBGSulaPZDmX91  0.494440   \n",
       "26  r01TOIoBGSulaPZD_385  0.490192   \n",
       "27  uk1UOIoBGSulaPZDCn-Y  0.489096   \n",
       "28  6E1SOIoBGSulaPZDB33F  0.487143   \n",
       "29  ek1TOIoBGSulaPZDyX8A  0.487143   \n",
       "\n",
       "                                             pdf_text  page_number  \n",
       "0   packages.microsoft.com/yumrepos/vscode\\nenable...          110  \n",
       "1   CodeWhisperer User Guide\\nInstalling or updati...            6  \n",
       "2   CodeWhisperer User Guide\\nInstalling or updati...            6  \n",
       "3   CodeWhisperer User Guide\\nWith VS Code and Jet...           20  \n",
       "4   CodeWhisperer User Guide\\nWith VS Code and Jet...           20  \n",
       "5   CodeWhisperer User Guide\\nCodeWhisperer Profes...           21  \n",
       "6   CodeWhisperer User Guide\\nCodeWhisperer Profes...           21  \n",
       "7   CodeWhisperer User Guide\\nPausing suggestions1...           43  \n",
       "8   CodeWhisperer User Guide\\nPausing suggestions1...           43  \n",
       "9   CodeWhisperer User Guide\\nIDE supportCodeWhisp...           41  \n",
       "10  CodeWhisperer User Guide\\nIDE supportCodeWhisp...           41  \n",
       "11  CodeWhisperer User Guide\\nSecurity scansAWS Gl...           46  \n",
       "12  CodeWhisperer User Guide\\nSecurity scansAWS Gl...           46  \n",
       "13  CodeWhisperer User Guide\\nOpting out of sharin...           81  \n",
       "14  CodeWhisperer User Guide Single-line code comp...            3  \n",
       "15  CodeWhisperer User Guide Single-line code comp...            3  \n",
       "16  CodeWhisperer User Guide\\nActivating security ...           48  \n",
       "17  CodeWhisperer User Guide\\nActivating security ...           48  \n",
       "18  CodeWhisperer User Guide\\nChoosing your IDE\\nS...            5  \n",
       "19  CodeWhisperer User Guide\\nChoosing your IDE\\nS...            5  \n",
       "20  CodeWhisperer User Guide\\nToggling code refere...           55  \n",
       "21  CodeWhisperer User Guide\\nToggling code refere...           55  \n",
       "22                          CodeWhisperer\\nUser Guide            0  \n",
       "23                          CodeWhisperer\\nUser Guide            0  \n",
       "24  CodeWhisperer User GuideTable of Contents\\nWha...            2  \n",
       "25  CodeWhisperer User GuideTable of Contents\\nWha...            2  \n",
       "26  CodeWhisperer User Guide\\nSingle-line code com...           65  \n",
       "27  CodeWhisperer User Guide\\nSingle-line comment ...           76  \n",
       "28  2. In VS Code, with the AWS Toolkit for Visual...           24  \n",
       "29  2. In VS Code, with the AWS Toolkit for Visual...           24  "
      ]
     },
     "metadata": {},
     "output_type": "display_data"
    }
   ],
   "source": [
    "import pandas as pd\n",
    "\n",
    "#query_text='What images get new SageMaker/AWS features?'\n",
    "#query_text='Why to Choose the Base DLAMI?'\n",
    "query_text='How do you install Code whisperer on vs code?'\n",
    "\n",
    "query={\n",
    "  \"_source\": {\n",
    "        \"exclude\": [ \"pdf_text_vector\" ]\n",
    "    },\n",
    "  \"size\": 30,\n",
    "  \"query\": {\n",
    "    \"neural\": {\n",
    "      \"pdf_text_vector\": {\n",
    "        #\"query_text\": \"what are the features of API gateway?\",\n",
    "        \"query_text\":query_text,\n",
    "        \"model_id\": model_id,\n",
    "        \"k\": 30\n",
    "      }\n",
    "    }\n",
    "  }\n",
    "}\n",
    "\n",
    "res = aos_client.search(index=\"nlp_awsdocs\", \n",
    "                       body=query,\n",
    "                       stored_fields=[\"pdf_text\",\"page_number\"])\n",
    "print(\"Got %d Hits:\" % res['hits']['total']['value'])\n",
    "query_result=[]\n",
    "for hit in res['hits']['hits']:\n",
    "    row=[hit['_id'],hit['_score'],hit['_source']['pdf_text'],hit['_source']['page_number']]\n",
    "    query_result.append(row)\n",
    "\n",
    "query_result_df = pd.DataFrame(data=query_result,columns=[\"_id\",\"_score\",\"pdf_text\",\"page_number\"])\n",
    "display(query_result_df)"
   ]
  },
  {
   "cell_type": "code",
   "execution_count": 157,
   "id": "5117a42a-9c5e-454a-982d-3bbb1e2e0a15",
   "metadata": {},
   "outputs": [],
   "source": [
    "query={\n",
    "  \"_source\": {\n",
    "        \"exclude\": [ \"pdf_text_vector\" ]\n",
    "    },\n",
    "  \"size\": 30,\n",
    "  \"query\": {\n",
    "    \"neural\": {\n",
    "      \"pdf_text_vector\": {\n",
    "        #\"query_text\": \"what are the features of API gateway?\",\n",
    "        #\"query_text\": \"Who uses API gateway?\",\n",
    "        #\"query_text\":  'What are the cloudwatch metrics for monitoring websocket APIs?',\n",
    "        \"query_text\": query_text,\n",
    "        \"model_id\": model_id,\n",
    "        \"k\": 30\n",
    "      }\n",
    "    }\n",
    "  }\n",
    "}\n",
    "\n",
    "relevant_documents = aos_client.search(\n",
    "    body = query,\n",
    "    index = 'nlp_awsdocs'\n",
    ")"
   ]
  },
  {
   "cell_type": "code",
   "execution_count": 158,
   "id": "51c7a9e7-309d-47ec-8630-f92a98a48f38",
   "metadata": {
    "tags": []
   },
   "outputs": [
    {
     "name": "stdout",
     "output_type": "stream",
     "text": [
      "30\n",
      "--------------------\n"
     ]
    }
   ],
   "source": [
    "# from utils import print_ww\n",
    "\n",
    "relevant_documents\n",
    "print(len(relevant_documents[\"hits\"][\"hits\"]))\n",
    "print(\"--------------------\")\n",
    "context = \" \"\n",
    "for i, rel_doc in enumerate(relevant_documents[\"hits\"][\"hits\"]):\n",
    "    # print_ww(f'## Document {i+1}: {relevant_documents[\"hits\"][\"hits\"][i][\"_source\"][\"pdf_text\"]}.......')\n",
    "    # print('---')\n",
    "    context += relevant_documents[\"hits\"][\"hits\"][i][\"_source\"][\"pdf_text\"]"
   ]
  },
  {
   "cell_type": "markdown",
   "id": "a7d1c4f3-2b09-4e42-8d9d-2e3d403d2a76",
   "metadata": {},
   "source": [
    "### Claude v2 LLM Response"
   ]
  },
  {
   "cell_type": "code",
   "execution_count": 130,
   "id": "6a616cbc-6695-47f0-942e-c1cb6c9ba0ec",
   "metadata": {
    "tags": []
   },
   "outputs": [],
   "source": [
    "#query = 'What are the features of Api Gateway?'\n",
    "#query = 'Who uses Api Gateway?'\n",
    "#query = 'What are the cloudwatch metrics for monitoring websocket APIs?'"
   ]
  },
  {
   "cell_type": "code",
   "execution_count": 131,
   "id": "c1429b29-bd83-48b2-b5c0-1b079754a4eb",
   "metadata": {
    "tags": []
   },
   "outputs": [],
   "source": [
    "from langchain.llms.bedrock import Bedrock\n",
    "\n",
    "claude_llm = Bedrock(model_id=\"anthropic.claude-v2\", client=bedrock, model_kwargs={'max_tokens_to_sample':400})\n",
    "titan_llm = Bedrock(model_id= \"amazon.titan-tg1-large\", client=bedrock)"
   ]
  },
  {
   "cell_type": "code",
   "execution_count": 132,
   "id": "61a33ccd-abde-4479-85ac-7ad7bf32ec44",
   "metadata": {
    "tags": []
   },
   "outputs": [],
   "source": [
    "parameters = {\n",
    "    \"maxTokenCount\":512,\n",
    "    \"stopSequences\":[],\n",
    "    \"temperature\":0.1,\n",
    "    \"topP\":0.9\n",
    "    }"
   ]
  },
  {
   "cell_type": "code",
   "execution_count": 159,
   "id": "ef4f683f-9797-4d5b-b02c-da78d8ad40d7",
   "metadata": {
    "tags": []
   },
   "outputs": [],
   "source": [
    "prompt_data_claude = f\"\"\"Human: Answer the question based only on the information provided. If the answer is not in the context, say \"I don't know, answer not found in the documents. Provide quote from the document.\n",
    "<context>\n",
    "{context}\n",
    "</context>\n",
    "<question>\n",
    "{query_text}\n",
    "</question>\n",
    "Assistant:\"\"\""
   ]
  },
  {
   "cell_type": "code",
   "execution_count": 163,
   "id": "ed2b037c-683f-49dc-be9c-6ddd8ade7ee8",
   "metadata": {
    "tags": []
   },
   "outputs": [
    {
     "name": "stdout",
     "output_type": "stream",
     "text": [
      "########## Ouput from Claude Model #################\n",
      "\n",
      " Based on the provided context, here are the steps to install CodeWhisperer on Visual Studio Code:\n",
      "\n",
      "1. Open your local instance of VS Code (with the AWS Toolkit for Visual Studio already installed).\n",
      "\n",
      "2. In the Toolkit for Visual Studio pane, under Developer tools, under CodeWhisperer, select Start. A dropdown menu will appear at the top of VS Code.\n",
      "\n",
      "3. From the dropdown menu, select your preferred authentication method (e.g. Connect using IAM Identity Center). \n",
      "\n",
      "4. Follow the prompts to complete the authentication process.\n",
      "\n",
      "5. Once authenticated, CodeWhisperer will be activated in VS Code.\n",
      "\n",
      "So the key steps are to have the AWS Toolkit installed, select CodeWhisperer Start from the toolkit pane, and complete the authentication process. The context mentions opening a local instance of VS Code, so CodeWhisperer needs to be set up on each developer's local IDE.\n"
     ]
    }
   ],
   "source": [
    " output_text_claude = claude_llm(prompt_data_claude)\n",
    "\n",
    "print (\"########## Ouput from Claude Model #################\\n\")\n",
    "print(output_text_claude)"
   ]
  },
  {
   "cell_type": "markdown",
   "id": "245b45b3-ad9a-48fb-90f0-f33328f3a018",
   "metadata": {},
   "source": [
    "### Titan LLM Response"
   ]
  },
  {
   "cell_type": "code",
   "execution_count": 161,
   "id": "8fa785a1-874e-4b3e-9aa9-a78a5f4c9841",
   "metadata": {
    "tags": []
   },
   "outputs": [],
   "source": [
    " prompt_data_titan = f\"\"\"Answer the below question based on the context provided. If the answer is not in the context, say \"I don't know, answer not found in the documents\".\n",
    "{context}\n",
    "{query}\n",
    "\"\"\""
   ]
  },
  {
   "cell_type": "code",
   "execution_count": 162,
   "id": "81a1ba9a-6bb1-4985-8d7d-066b985e452b",
   "metadata": {
    "tags": []
   },
   "outputs": [
    {
     "name": "stdout",
     "output_type": "stream",
     "text": [
      "########## Ouput from Titan Model ################\n",
      "\n",
      "3. In the AWS Toolkit: Select Settings tab.\n",
      "4. Under CodeWhisperer, select the box next to Include Suggestions with Code References.\n",
      "5. Choose Close.\n",
      "Turning code references oﬀ and on\n",
      "With the reference log, you can view references to code recommendations. You can also update and edit \n",
      "code recommendations suggested by CodeWhisperer.\n",
      "This section explains how to use the code reference options.\n",
      "AWS Toolkit for Visual Studio Code\n",
      "When you use CodeWhisperer with VS Code, code references are on by default.\n",
      "To turn them oﬀ\n"
     ]
    }
   ],
   "source": [
    "output_text_titan = titan_llm(prompt_data_titan)\n",
    "print (\"########## Ouput from Titan Model ################\\n\")\n",
    "print(output_text_titan)"
   ]
  },
  {
   "cell_type": "code",
   "execution_count": null,
   "id": "e03f14d1-9818-493a-84d8-f403f38b4c09",
   "metadata": {},
   "outputs": [],
   "source": []
  }
 ],
 "metadata": {
  "kernelspec": {
   "display_name": "conda_pytorch_p310",
   "language": "python",
   "name": "conda_pytorch_p310"
  },
  "language_info": {
   "codemirror_mode": {
    "name": "ipython",
    "version": 3
   },
   "file_extension": ".py",
   "mimetype": "text/x-python",
   "name": "python",
   "nbconvert_exporter": "python",
   "pygments_lexer": "ipython3",
   "version": "3.10.12"
  }
 },
 "nbformat": 4,
 "nbformat_minor": 5
}
